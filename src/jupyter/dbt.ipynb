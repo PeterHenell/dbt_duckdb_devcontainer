{
 "cells": [
  {
   "cell_type": "code",
   "execution_count": 1,
   "metadata": {},
   "outputs": [
    {
     "data": {
      "text/html": [
       "<span style=\"None\">Tip: You may define configurations in /workspaces/dbt_duckdb_devcontainer/src/pyproject.toml or /root/.jupysql/config. </span>"
      ],
      "text/plain": [
       "Tip: You may define configurations in /workspaces/dbt_duckdb_devcontainer/src/pyproject.toml or /root/.jupysql/config. "
      ]
     },
     "metadata": {},
     "output_type": "display_data"
    },
    {
     "data": {
      "text/html": [
       "Please review our <a href='https://jupysql.ploomber.io/en/latest/api/configuration.html#loading-from-a-file'>configuration guideline</a>."
      ],
      "text/plain": [
       "<IPython.core.display.HTML object>"
      ]
     },
     "metadata": {},
     "output_type": "display_data"
    },
    {
     "data": {
      "text/html": [
       "<span style=\"None\">Did not find user configurations in /workspaces/dbt_duckdb_devcontainer/src/pyproject.toml.</span>"
      ],
      "text/plain": [
       "Did not find user configurations in /workspaces/dbt_duckdb_devcontainer/src/pyproject.toml."
      ]
     },
     "metadata": {},
     "output_type": "display_data"
    },
    {
     "data": {
      "text/html": [
       "<span style=\"None\">Connecting to &#x27;duckdb:////workspaces/dbt_duckdb_devcontainer/src/dbt_duckdb_devcontainer/dev.duckdb&#x27;</span>"
      ],
      "text/plain": [
       "Connecting to 'duckdb:////workspaces/dbt_duckdb_devcontainer/src/dbt_duckdb_devcontainer/dev.duckdb'"
      ]
     },
     "metadata": {},
     "output_type": "display_data"
    }
   ],
   "source": [
    "import duckdb\n",
    "import pandas as pd\n",
    "\n",
    "%load_ext sql\n",
    "%sql duckdb:////workspaces/dbt_duckdb_devcontainer/src/dbt_duckdb_devcontainer/dev.duckdb\n",
    "%config SqlMagic.autopandas = True\n",
    "%config SqlMagic.feedback = False\n",
    "%config SqlMagic.displaycon = False"
   ]
  },
  {
   "cell_type": "code",
   "execution_count": 2,
   "metadata": {},
   "outputs": [
    {
     "data": {
      "text/html": [
       "<div>\n",
       "<style scoped>\n",
       "    .dataframe tbody tr th:only-of-type {\n",
       "        vertical-align: middle;\n",
       "    }\n",
       "\n",
       "    .dataframe tbody tr th {\n",
       "        vertical-align: top;\n",
       "    }\n",
       "\n",
       "    .dataframe thead th {\n",
       "        text-align: right;\n",
       "    }\n",
       "</style>\n",
       "<table border=\"1\" class=\"dataframe\">\n",
       "  <thead>\n",
       "    <tr style=\"text-align: right;\">\n",
       "      <th></th>\n",
       "      <th>EventData</th>\n",
       "      <th>EventObjects</th>\n",
       "      <th>EventTime</th>\n",
       "      <th>Metadata</th>\n",
       "    </tr>\n",
       "  </thead>\n",
       "  <tbody>\n",
       "    <tr>\n",
       "      <th>0</th>\n",
       "      <td>None</td>\n",
       "      <td>[{\"weight\":\"4300\",\"recipientId\":\"5096832074671...</td>\n",
       "      <td>2024-02-29 12:30:44.516202</td>\n",
       "      <td>{\"eventId\":\"ec665eca-973f-4716-85d7-e9929a1882...</td>\n",
       "    </tr>\n",
       "    <tr>\n",
       "      <th>1</th>\n",
       "      <td>None</td>\n",
       "      <td>[{\"weight\":\"8700\",\"recipientId\":\"2848798208719...</td>\n",
       "      <td>2024-02-29 12:30:54.331786</td>\n",
       "      <td>{\"eventId\":\"6b430f62-5c51-4e99-af2d-577b7c4c37...</td>\n",
       "    </tr>\n",
       "    <tr>\n",
       "      <th>2</th>\n",
       "      <td>None</td>\n",
       "      <td>[{\"weight\":\"3300\",\"recipientId\":\"2848798207646...</td>\n",
       "      <td>2024-02-29 12:30:52.240108</td>\n",
       "      <td>{\"eventId\":\"d213bc44-5525-44e8-96fd-3575c971aa...</td>\n",
       "    </tr>\n",
       "    <tr>\n",
       "      <th>3</th>\n",
       "      <td>None</td>\n",
       "      <td>[{\"weight\":\"3300\",\"recipientId\":\"2848798207646...</td>\n",
       "      <td>2024-02-29 12:30:52.240108</td>\n",
       "      <td>{\"eventId\":\"d213bc44-5525-44e8-96fd-3575c971aa...</td>\n",
       "    </tr>\n",
       "    <tr>\n",
       "      <th>4</th>\n",
       "      <td>None</td>\n",
       "      <td>[{\"weight\":\"300\",\"recipientId\":\"19407730914941...</td>\n",
       "      <td>2024-02-29 12:30:49.652473</td>\n",
       "      <td>{\"eventId\":\"8316a5cc-8902-417e-b327-01b6094114...</td>\n",
       "    </tr>\n",
       "    <tr>\n",
       "      <th>...</th>\n",
       "      <td>...</td>\n",
       "      <td>...</td>\n",
       "      <td>...</td>\n",
       "      <td>...</td>\n",
       "    </tr>\n",
       "    <tr>\n",
       "      <th>995</th>\n",
       "      <td>None</td>\n",
       "      <td>[{\"weight\":null,\"recipientId\":\"307665906783103...</td>\n",
       "      <td>2024-02-29 12:46:39.864166</td>\n",
       "      <td>{\"eventId\":\"45b5e2a9-eef9-4139-96d2-9c97d5c2f8...</td>\n",
       "    </tr>\n",
       "    <tr>\n",
       "      <th>996</th>\n",
       "      <td>None</td>\n",
       "      <td>[{\"weight\":\"2200\",\"recipientId\":\"6085520063266...</td>\n",
       "      <td>2024-02-29 12:46:40.919919</td>\n",
       "      <td>{\"eventId\":\"aae44cc0-0706-48b9-bfb2-7b854d6ee0...</td>\n",
       "    </tr>\n",
       "    <tr>\n",
       "      <th>997</th>\n",
       "      <td>None</td>\n",
       "      <td>[{\"weight\":\"1380\",\"recipientId\":\"2848798210613...</td>\n",
       "      <td>2024-02-29 12:46:40.079381</td>\n",
       "      <td>{\"eventId\":\"6070a82d-b56e-4a67-8b70-032b162634...</td>\n",
       "    </tr>\n",
       "    <tr>\n",
       "      <th>998</th>\n",
       "      <td>None</td>\n",
       "      <td>[{\"weight\":null,\"recipientId\":\"284879821029344...</td>\n",
       "      <td>2024-02-29 12:46:15.261920</td>\n",
       "      <td>{\"eventId\":\"1c86fe62-2dbe-4bca-8faa-57ca7c92b8...</td>\n",
       "    </tr>\n",
       "    <tr>\n",
       "      <th>999</th>\n",
       "      <td>None</td>\n",
       "      <td>[{\"weight\":\"2300\",\"recipientId\":\"6021033065861...</td>\n",
       "      <td>2024-02-29 12:46:38.322752</td>\n",
       "      <td>{\"eventId\":\"f05f482b-6b0e-4973-9f91-c3be0366d3...</td>\n",
       "    </tr>\n",
       "  </tbody>\n",
       "</table>\n",
       "<p>1000 rows × 4 columns</p>\n",
       "</div>"
      ],
      "text/plain": [
       "    EventData                                       EventObjects  \\\n",
       "0        None  [{\"weight\":\"4300\",\"recipientId\":\"5096832074671...   \n",
       "1        None  [{\"weight\":\"8700\",\"recipientId\":\"2848798208719...   \n",
       "2        None  [{\"weight\":\"3300\",\"recipientId\":\"2848798207646...   \n",
       "3        None  [{\"weight\":\"3300\",\"recipientId\":\"2848798207646...   \n",
       "4        None  [{\"weight\":\"300\",\"recipientId\":\"19407730914941...   \n",
       "..        ...                                                ...   \n",
       "995      None  [{\"weight\":null,\"recipientId\":\"307665906783103...   \n",
       "996      None  [{\"weight\":\"2200\",\"recipientId\":\"6085520063266...   \n",
       "997      None  [{\"weight\":\"1380\",\"recipientId\":\"2848798210613...   \n",
       "998      None  [{\"weight\":null,\"recipientId\":\"284879821029344...   \n",
       "999      None  [{\"weight\":\"2300\",\"recipientId\":\"6021033065861...   \n",
       "\n",
       "                     EventTime  \\\n",
       "0   2024-02-29 12:30:44.516202   \n",
       "1   2024-02-29 12:30:54.331786   \n",
       "2   2024-02-29 12:30:52.240108   \n",
       "3   2024-02-29 12:30:52.240108   \n",
       "4   2024-02-29 12:30:49.652473   \n",
       "..                         ...   \n",
       "995 2024-02-29 12:46:39.864166   \n",
       "996 2024-02-29 12:46:40.919919   \n",
       "997 2024-02-29 12:46:40.079381   \n",
       "998 2024-02-29 12:46:15.261920   \n",
       "999 2024-02-29 12:46:38.322752   \n",
       "\n",
       "                                              Metadata  \n",
       "0    {\"eventId\":\"ec665eca-973f-4716-85d7-e9929a1882...  \n",
       "1    {\"eventId\":\"6b430f62-5c51-4e99-af2d-577b7c4c37...  \n",
       "2    {\"eventId\":\"d213bc44-5525-44e8-96fd-3575c971aa...  \n",
       "3    {\"eventId\":\"d213bc44-5525-44e8-96fd-3575c971aa...  \n",
       "4    {\"eventId\":\"8316a5cc-8902-417e-b327-01b6094114...  \n",
       "..                                                 ...  \n",
       "995  {\"eventId\":\"45b5e2a9-eef9-4139-96d2-9c97d5c2f8...  \n",
       "996  {\"eventId\":\"aae44cc0-0706-48b9-bfb2-7b854d6ee0...  \n",
       "997  {\"eventId\":\"6070a82d-b56e-4a67-8b70-032b162634...  \n",
       "998  {\"eventId\":\"1c86fe62-2dbe-4bca-8faa-57ca7c92b8...  \n",
       "999  {\"eventId\":\"f05f482b-6b0e-4973-9f91-c3be0366d3...  \n",
       "\n",
       "[1000 rows x 4 columns]"
      ]
     },
     "execution_count": 2,
     "metadata": {},
     "output_type": "execute_result"
    }
   ],
   "source": [
    "%%sql\n",
    "select * from main.events"
   ]
  }
 ],
 "metadata": {
  "kernelspec": {
   "display_name": ".venv",
   "language": "python",
   "name": "python3"
  },
  "language_info": {
   "codemirror_mode": {
    "name": "ipython",
    "version": 3
   },
   "file_extension": ".py",
   "mimetype": "text/x-python",
   "name": "python",
   "nbconvert_exporter": "python",
   "pygments_lexer": "ipython3",
   "version": "3.9.17"
  }
 },
 "nbformat": 4,
 "nbformat_minor": 2
}
