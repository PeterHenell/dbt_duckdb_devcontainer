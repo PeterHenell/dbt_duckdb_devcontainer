{
 "cells": [
  {
   "cell_type": "code",
   "execution_count": 2,
   "metadata": {},
   "outputs": [
    {
     "data": {
      "text/html": [
       "<span style=\"None\">The &#x27;toml&#x27; package isn&#x27;t installed. To load settings from pyproject.toml or ~/.jupysql/config, install with: pip install toml</span>"
      ],
      "text/plain": [
       "The 'toml' package isn't installed. To load settings from pyproject.toml or ~/.jupysql/config, install with: pip install toml"
      ]
     },
     "metadata": {},
     "output_type": "display_data"
    },
    {
     "data": {
      "text/html": [
       "<span style=\"None\">Connecting to &#x27;duckdb:///:memory:&#x27;</span>"
      ],
      "text/plain": [
       "Connecting to 'duckdb:///:memory:'"
      ]
     },
     "metadata": {},
     "output_type": "display_data"
    }
   ],
   "source": [
    "import duckdb\n",
    "import pandas as pd\n",
    "\n",
    "%load_ext sql\n",
    "%sql duckdb:////workspaces/dbt_duckdb_devcontainer/src/dbt_duckdb_devcontainer/dev.duckdb\n",
    "%config SqlMagic.autopandas = True\n",
    "%config SqlMagic.feedback = False\n",
    "%config SqlMagic.displaycon = False"
   ]
  },
  {
   "cell_type": "code",
   "execution_count": 4,
   "metadata": {},
   "outputs": [
    {
     "data": {
      "text/html": [
       "<div>\n",
       "<style scoped>\n",
       "    .dataframe tbody tr th:only-of-type {\n",
       "        vertical-align: middle;\n",
       "    }\n",
       "\n",
       "    .dataframe tbody tr th {\n",
       "        vertical-align: top;\n",
       "    }\n",
       "\n",
       "    .dataframe thead th {\n",
       "        text-align: right;\n",
       "    }\n",
       "</style>\n",
       "<table border=\"1\" class=\"dataframe\">\n",
       "  <thead>\n",
       "    <tr style=\"text-align: right;\">\n",
       "      <th></th>\n",
       "      <th>Success</th>\n",
       "    </tr>\n",
       "  </thead>\n",
       "  <tbody>\n",
       "  </tbody>\n",
       "</table>\n",
       "</div>"
      ],
      "text/plain": [
       "Empty DataFrame\n",
       "Columns: [Success]\n",
       "Index: []"
      ]
     },
     "execution_count": 4,
     "metadata": {},
     "output_type": "execute_result"
    }
   ],
   "source": [
    "%%sql\n",
    "INSTALL spatial;\n",
    "LOAD spatial;"
   ]
  },
  {
   "cell_type": "code",
   "execution_count": 7,
   "metadata": {},
   "outputs": [
    {
     "data": {
      "text/html": [
       "<div>\n",
       "<style scoped>\n",
       "    .dataframe tbody tr th:only-of-type {\n",
       "        vertical-align: middle;\n",
       "    }\n",
       "\n",
       "    .dataframe tbody tr th {\n",
       "        vertical-align: top;\n",
       "    }\n",
       "\n",
       "    .dataframe thead th {\n",
       "        text-align: right;\n",
       "    }\n",
       "</style>\n",
       "<table border=\"1\" class=\"dataframe\">\n",
       "  <thead>\n",
       "    <tr style=\"text-align: right;\">\n",
       "      <th></th>\n",
       "      <th>Success</th>\n",
       "    </tr>\n",
       "  </thead>\n",
       "  <tbody>\n",
       "  </tbody>\n",
       "</table>\n",
       "</div>"
      ],
      "text/plain": [
       "Empty DataFrame\n",
       "Columns: [Success]\n",
       "Index: []"
      ]
     },
     "execution_count": 7,
     "metadata": {},
     "output_type": "execute_result"
    }
   ],
   "source": [
    "%%sql\n",
    "create or replace view isp_dla as\n",
    "SELECT *\n",
    "FROM st_read('/Users/peterhenell/Documents/Lighthouse/AoR/ISP_address_DLA_DATA.xlsx', layer = 'Sheet1', open_options = ['HEADERS=FORCE']);"
   ]
  },
  {
   "cell_type": "code",
   "execution_count": 8,
   "metadata": {},
   "outputs": [
    {
     "data": {
      "text/html": [
       "<div>\n",
       "<style scoped>\n",
       "    .dataframe tbody tr th:only-of-type {\n",
       "        vertical-align: middle;\n",
       "    }\n",
       "\n",
       "    .dataframe tbody tr th {\n",
       "        vertical-align: top;\n",
       "    }\n",
       "\n",
       "    .dataframe thead th {\n",
       "        text-align: right;\n",
       "    }\n",
       "</style>\n",
       "<table border=\"1\" class=\"dataframe\">\n",
       "  <thead>\n",
       "    <tr style=\"text-align: right;\">\n",
       "      <th></th>\n",
       "      <th>Field1</th>\n",
       "      <th>Field2</th>\n",
       "      <th>Field3</th>\n",
       "      <th>Field4</th>\n",
       "      <th>Field5</th>\n",
       "      <th>Field6</th>\n",
       "      <th>Field7</th>\n",
       "      <th>Field8</th>\n",
       "      <th>Field9</th>\n",
       "      <th>Field10</th>\n",
       "      <th>Field11</th>\n",
       "      <th>Field12</th>\n",
       "      <th>Field13</th>\n",
       "      <th>Field14</th>\n",
       "    </tr>\n",
       "  </thead>\n",
       "  <tbody>\n",
       "    <tr>\n",
       "      <th>0</th>\n",
       "      <td>79356461</td>\n",
       "      <td>OEHLENSCHLÆGERSGADE</td>\n",
       "      <td>19</td>\n",
       "      <td>1663</td>\n",
       "      <td>KØBENHAVN V</td>\n",
       "      <td>519202020</td>\n",
       "      <td>2607-0029-0068</td>\n",
       "      <td>M86 03-06-2024</td>\n",
       "      <td>AH - Opryd</td>\n",
       "      <td>991</td>\n",
       "      <td>Brøndby PO-Brøndby 875</td>\n",
       "      <td>1007451</td>\n",
       "      <td>2024-08-16 07:25:57</td>\n",
       "      <td>2024-05-30 04:53:29</td>\n",
       "    </tr>\n",
       "    <tr>\n",
       "      <th>1</th>\n",
       "      <td>79356461</td>\n",
       "      <td>OEHLENSCHLÆGERSGADE</td>\n",
       "      <td>19</td>\n",
       "      <td>1663</td>\n",
       "      <td>KØBENHAVN V</td>\n",
       "      <td>519202020</td>\n",
       "      <td>2607-0029-0068</td>\n",
       "      <td>M86 03-06-2024</td>\n",
       "      <td>AH - Opryd</td>\n",
       "      <td>992</td>\n",
       "      <td>Brøndby PO-Brøndby 875</td>\n",
       "      <td>1007451</td>\n",
       "      <td>2024-08-16 07:25:57</td>\n",
       "      <td>2024-05-30 04:53:29</td>\n",
       "    </tr>\n",
       "    <tr>\n",
       "      <th>2</th>\n",
       "      <td>79356461</td>\n",
       "      <td>OEHLENSCHLÆGERSGADE</td>\n",
       "      <td>19</td>\n",
       "      <td>1663</td>\n",
       "      <td>KØBENHAVN V</td>\n",
       "      <td>519202020</td>\n",
       "      <td>2607-0029-0068</td>\n",
       "      <td>M86 03-06-2024</td>\n",
       "      <td>AH - Opryd</td>\n",
       "      <td>993</td>\n",
       "      <td>Brøndby PO-Brøndby 875</td>\n",
       "      <td>1007451</td>\n",
       "      <td>2024-08-16 07:25:57</td>\n",
       "      <td>2024-05-30 04:53:29</td>\n",
       "    </tr>\n",
       "    <tr>\n",
       "      <th>3</th>\n",
       "      <td>79356461</td>\n",
       "      <td>OEHLENSCHLÆGERSGADE</td>\n",
       "      <td>19</td>\n",
       "      <td>1663</td>\n",
       "      <td>KØBENHAVN V</td>\n",
       "      <td>519202020</td>\n",
       "      <td>2607-0029-0068</td>\n",
       "      <td>M86 03-06-2024</td>\n",
       "      <td>AH - Opryd</td>\n",
       "      <td>994</td>\n",
       "      <td>Brøndby PO-Brøndby 875</td>\n",
       "      <td>1007451</td>\n",
       "      <td>2024-08-16 07:25:57</td>\n",
       "      <td>2024-05-30 04:53:29</td>\n",
       "    </tr>\n",
       "    <tr>\n",
       "      <th>4</th>\n",
       "      <td>79356461</td>\n",
       "      <td>OEHLENSCHLÆGERSGADE</td>\n",
       "      <td>19</td>\n",
       "      <td>1663</td>\n",
       "      <td>KØBENHAVN V</td>\n",
       "      <td>519202020</td>\n",
       "      <td>2607-0029-0068</td>\n",
       "      <td>M86 03-06-2024</td>\n",
       "      <td>AH - Opryd</td>\n",
       "      <td>995</td>\n",
       "      <td>Brøndby PO-Brøndby 875</td>\n",
       "      <td>1007451</td>\n",
       "      <td>2024-08-16 07:25:57</td>\n",
       "      <td>2024-05-30 04:53:29</td>\n",
       "    </tr>\n",
       "  </tbody>\n",
       "</table>\n",
       "</div>"
      ],
      "text/plain": [
       "     Field1               Field2 Field3 Field4       Field5     Field6  \\\n",
       "0  79356461  OEHLENSCHLÆGERSGADE     19   1663  KØBENHAVN V  519202020   \n",
       "1  79356461  OEHLENSCHLÆGERSGADE     19   1663  KØBENHAVN V  519202020   \n",
       "2  79356461  OEHLENSCHLÆGERSGADE     19   1663  KØBENHAVN V  519202020   \n",
       "3  79356461  OEHLENSCHLÆGERSGADE     19   1663  KØBENHAVN V  519202020   \n",
       "4  79356461  OEHLENSCHLÆGERSGADE     19   1663  KØBENHAVN V  519202020   \n",
       "\n",
       "           Field7          Field8      Field9 Field10                 Field11  \\\n",
       "0  2607-0029-0068  M86 03-06-2024  AH - Opryd     991  Brøndby PO-Brøndby 875   \n",
       "1  2607-0029-0068  M86 03-06-2024  AH - Opryd     992  Brøndby PO-Brøndby 875   \n",
       "2  2607-0029-0068  M86 03-06-2024  AH - Opryd     993  Brøndby PO-Brøndby 875   \n",
       "3  2607-0029-0068  M86 03-06-2024  AH - Opryd     994  Brøndby PO-Brøndby 875   \n",
       "4  2607-0029-0068  M86 03-06-2024  AH - Opryd     995  Brøndby PO-Brøndby 875   \n",
       "\n",
       "   Field12              Field13              Field14  \n",
       "0  1007451  2024-08-16 07:25:57  2024-05-30 04:53:29  \n",
       "1  1007451  2024-08-16 07:25:57  2024-05-30 04:53:29  \n",
       "2  1007451  2024-08-16 07:25:57  2024-05-30 04:53:29  \n",
       "3  1007451  2024-08-16 07:25:57  2024-05-30 04:53:29  \n",
       "4  1007451  2024-08-16 07:25:57  2024-05-30 04:53:29  "
      ]
     },
     "execution_count": 8,
     "metadata": {},
     "output_type": "execute_result"
    }
   ],
   "source": [
    "%%sql\n",
    "select * from isp_dla limit 5;"
   ]
  }
 ],
 "metadata": {
  "kernelspec": {
   "display_name": ".venv",
   "language": "python",
   "name": "python3"
  },
  "language_info": {
   "codemirror_mode": {
    "name": "ipython",
    "version": 3
   },
   "file_extension": ".py",
   "mimetype": "text/x-python",
   "name": "python",
   "nbconvert_exporter": "python",
   "pygments_lexer": "ipython3",
   "version": "3.9.17"
  }
 },
 "nbformat": 4,
 "nbformat_minor": 2
}
